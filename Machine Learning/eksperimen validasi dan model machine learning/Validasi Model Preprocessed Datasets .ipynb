{
 "cells": [
  {
   "cell_type": "code",
   "execution_count": 1,
   "metadata": {},
   "outputs": [],
   "source": [
    "import pandas as pd\n",
    "# membaca dataset \n",
    "dataset = pd.read_csv('preprocessed_datasets.csv', sep=',')"
   ]
  },
  {
   "cell_type": "code",
   "execution_count": 2,
   "metadata": {},
   "outputs": [
    {
     "name": "stdout",
     "output_type": "stream",
     "text": [
      "Holdout score:  0.99985\n"
     ]
    }
   ],
   "source": [
    "#Metode Holdout\n",
    "\n",
    "from sklearn.model_selection import train_test_split\n",
    "from sklearn.neighbors import KNeighborsClassifier\n",
    "# Memisahkan fitur dataset (X) dan class/label dataset (y)\n",
    "X = dataset.drop('label', axis=1) # or using X = dataset.drop('class', axis=1)\n",
    "y = dataset['label'] # or using y = dataset['class']\n",
    "# random_state=1 artinya tanpa random\n",
    "X_train, X_test, y_train, y_test = train_test_split(X, y, test_size=0.3, random_state=1)\n",
    "# Menset model ke model yang dipilih dan mem‐fit modelnya\n",
    "# model dapat diganti secara manual\n",
    "model = KNeighborsClassifier(n_neighbors=3) # algortima klasifikasi Nearest Neighbor\n",
    "# Melatih (fit) model menggunakan X_train, y_train data\n",
    "model.fit(X_train, y_train)\n",
    "# Menghitung dan mencetak akurasi model dengan metode Holdout\n",
    "modelScore = model.score(X_test, y_test)\n",
    "print(\"Holdout score: \", modelScore)"
   ]
  },
  {
   "cell_type": "code",
   "execution_count": 3,
   "metadata": {},
   "outputs": [
    {
     "name": "stdout",
     "output_type": "stream",
     "text": [
      "Random Subsampling score:  0.9997666666666667\n"
     ]
    }
   ],
   "source": [
    "#Random Subsampling\n",
    "\n",
    "from sklearn.model_selection import train_test_split\n",
    "from sklearn.neighbors import KNeighborsClassifier\n",
    "# Memisahkan fitur dataset (X) dan class/label dataset (y)\n",
    "X = dataset.drop('label', axis=1) # or using X = dataset.drop('class', axis=1)\n",
    "y = dataset['label'] # or using y = dataset['class'\n",
    "# random_state=42 is for reproducility artinya random level 42\n",
    "X_train, X_test, y_train, y_test = train_test_split(X, y, test_size=0.3, random_state=42)\n",
    "# Menset model ke model yang dipilih dan mem‐fit modelnya\n",
    "# model dapat diganti secara manual\n",
    "model = KNeighborsClassifier(n_neighbors=3) # algortima klasifikasi Nearest Neighbor\n",
    "# Melatih (fit) model menggunakan X_train, y_train data\n",
    "model.fit(X_train, y_train)\n",
    "# Menghitung dan mencetak akurasi model dengan metode Random Subsampling (random_state=42)\n",
    "modelScore = model.score(X_test, y_test)\n",
    "print(\"Random Subsampling score: \", modelScore)"
   ]
  },
  {
   "cell_type": "code",
   "execution_count": 5,
   "metadata": {},
   "outputs": [
    {
     "name": "stdout",
     "output_type": "stream",
     "text": [
      "K‐Fold Cross Validation Accuracy scores:  [0.99998333 0.99991667 0.99996667 0.99993333 0.99993333 0.99991667\n",
      " 0.9999     0.99998333 0.99991667 0.9999    ]\n",
      "Ratas KFCV Accuracy score:  0.9999350000000001\n",
      "K‐Fold Cross Validation Precision scores:  [0.99998322 0.99991739 0.99996692 0.99993347 0.99993301 0.99991705\n",
      " 0.99989954 0.99998324 0.99991744 0.99990002]\n",
      "Ratas KFCV Precision score:  0.9999351294008718\n",
      "K‐Fold Cross Validation Recall scores:  [0.9999831  0.99991681 0.99996663 0.99993414 0.99993303 0.99991624\n",
      " 0.99990022 0.99998349 0.99991762 0.99989974]\n",
      "Ratas KFCV Recall score:  0.9999351013812096\n",
      "K‐Fold Cross Validation F1 scores:  [0.99998316 0.99991708 0.99996677 0.99993379 0.999933   0.99991662\n",
      " 0.99989986 0.99998336 0.99991751 0.99989986]\n",
      "Ratas KFCV F1 score:  0.9999351016921436\n"
     ]
    }
   ],
   "source": [
    "from sklearn.model_selection import KFold, cross_val_score\n",
    "from sklearn.neighbors import KNeighborsClassifier\n",
    "from sklearn.metrics import make_scorer, accuracy_score, precision_score, recall_score, f1_score\n",
    "import numpy as np\n",
    "import pandas as pd\n",
    "\n",
    "# Memisahkan fitur dataset (X) dan class/label dataset (y)\n",
    "X = dataset.drop('label', axis=1)\n",
    "y = dataset['label']\n",
    "\n",
    "# Menset model ke model yang dipilih dan mem‐fit modelnya\n",
    "model = KNeighborsClassifier(n_neighbors=3)\n",
    "\n",
    "# Menghitung dan mencetak akurasi model\n",
    "kFoldValidation = KFold(10)\n",
    "\n",
    "# Using accuracy as the scoring metric\n",
    "accuracy_scores = cross_val_score(model, X, y, cv=kFoldValidation, scoring='accuracy')\n",
    "print(\"K‐Fold Cross Validation Accuracy scores: \", accuracy_scores)\n",
    "print(\"Ratas KFCV Accuracy score: \", np.mean(accuracy_scores))\n",
    "\n",
    "# Using precision as the scoring metric\n",
    "precision_scores = cross_val_score(model, X, y, cv=kFoldValidation, scoring='precision_macro')\n",
    "print(\"K‐Fold Cross Validation Precision scores: \", precision_scores)\n",
    "print(\"Ratas KFCV Precision score: \", np.mean(precision_scores))\n",
    "\n",
    "# Using recall as the scoring metric\n",
    "recall_scores = cross_val_score(model, X, y, cv=kFoldValidation, scoring='recall_macro')\n",
    "print(\"K‐Fold Cross Validation Recall scores: \", recall_scores)\n",
    "print(\"Ratas KFCV Recall score: \", np.mean(recall_scores))\n",
    "\n",
    "# Using f1 as the scoring metric\n",
    "f1_scores = cross_val_score(model, X, y, cv=kFoldValidation, scoring='f1_macro')\n",
    "print(\"K‐Fold Cross Validation F1 scores: \", f1_scores)\n",
    "print(\"Ratas KFCV F1 score: \", np.mean(f1_scores))\n"
   ]
  }
 ],
 "metadata": {
  "kernelspec": {
   "display_name": "myenv1",
   "language": "python",
   "name": "python3"
  },
  "language_info": {
   "codemirror_mode": {
    "name": "ipython",
    "version": 3
   },
   "file_extension": ".py",
   "mimetype": "text/x-python",
   "name": "python",
   "nbconvert_exporter": "python",
   "pygments_lexer": "ipython3",
   "version": "3.10.13"
  }
 },
 "nbformat": 4,
 "nbformat_minor": 2
}
