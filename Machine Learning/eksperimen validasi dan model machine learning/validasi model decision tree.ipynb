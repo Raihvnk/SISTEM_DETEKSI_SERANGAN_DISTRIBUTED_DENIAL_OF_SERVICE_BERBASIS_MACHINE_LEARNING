{
 "cells": [
  {
   "cell_type": "code",
   "execution_count": 1,
   "metadata": {},
   "outputs": [],
   "source": [
    "import pandas as pd\n",
    "\n",
    "# Import dataset\n",
    "dataset = pd.read_csv('preprocessed_train_datasets.csv')"
   ]
  },
  {
   "cell_type": "code",
   "execution_count": 2,
   "metadata": {},
   "outputs": [
    {
     "name": "stdout",
     "output_type": "stream",
     "text": [
      "Holdout score:  1.0\n"
     ]
    }
   ],
   "source": [
    "#Decision Tree dengan metode Holdout\n",
    "from sklearn.model_selection import train_test_split\n",
    "from sklearn.tree import DecisionTreeClassifier\n",
    "\n",
    "# Memisahkan fitur dataset (X) dan label dataset (y)\n",
    "X = dataset.drop('label', axis=1)\n",
    "y = dataset['label']\n",
    "\n",
    "# random_state=1 artinya tanpa random\n",
    "X_train, X_test, y_train, y_test = train_test_split(X, y, test_size=0.3, random_state=1)\n",
    "\n",
    "# Menset model ke model yang dipilih dan mem‐fit modelnya\n",
    "# Create and train the Decision Tree model\n",
    "model = DecisionTreeClassifier(random_state=1)\n",
    "\n",
    "# Melatih (fit) model menggunakan X_train, y_train data\n",
    "model.fit(X_train, y_train)\n",
    "\n",
    "# Menghitung dan mencetak akurasi model dengan metode Holdout\n",
    "modelScore = model.score(X_test, y_test)\n",
    "print(\"Holdout score: \", modelScore)\n"
   ]
  },
  {
   "cell_type": "code",
   "execution_count": 3,
   "metadata": {},
   "outputs": [
    {
     "name": "stdout",
     "output_type": "stream",
     "text": [
      "Random Subsampling score:  1.0\n"
     ]
    }
   ],
   "source": [
    "#Decision Tree dengan Random Subsampling\n",
    "\n",
    "from sklearn.model_selection import train_test_split\n",
    "from sklearn.tree import DecisionTreeClassifier\n",
    "# Memisahkan fitur dataset (X) dan label dataset (y)\n",
    "X = dataset.drop('label', axis=1)\n",
    "y = dataset['label']\n",
    "\n",
    "# random_state=42 is for reproducibility\n",
    "X_train, X_test, y_train, y_test = train_test_split(X, y, test_size=0.3, random_state=42)\n",
    "\n",
    "# Menset model ke model yang dipilih dan mem‐fit modelnya\n",
    "# Menggunakan algoritma Decision Tree\n",
    "model = DecisionTreeClassifier(random_state=42)\n",
    "\n",
    "# Melatih (fit) model menggunakan data X_train dan y_train\n",
    "model.fit(X_train, y_train)\n",
    "\n",
    "# Menghitung dan mencetak akurasi model dengan metode Random Subsampling (random_state=42)\n",
    "modelScore = model.score(X_test, y_test)\n",
    "print(\"Random Subsampling score: \", modelScore)\n"
   ]
  },
  {
   "cell_type": "code",
   "execution_count": 4,
   "metadata": {},
   "outputs": [
    {
     "name": "stdout",
     "output_type": "stream",
     "text": [
      "K‐Fold Cross Validation score:  [1. 1. 1. 1. 1. 1. 1. 1. 1. 1.]\n",
      "Rata-rata KFCV score:  1.0\n",
      "K‐Fold Cross Validation MAE:  [-0. -0. -0. -0. -0. -0. -0. -0. -0. -0.]\n",
      "Rata-rata KFCV Mean Absolute Error:  0.0\n",
      "K‐Fold Cross Validation RMSE:  [-0. -0. -0. -0. -0. -0. -0. -0. -0. -0.]\n",
      "Rata-rata KFCV Root Mean Square Error:  0.0\n"
     ]
    }
   ],
   "source": [
    "# Decision Tree dengan K-Fold Cross Validation:\n",
    "\n",
    "from sklearn.model_selection import KFold, cross_val_score\n",
    "from sklearn.tree import DecisionTreeClassifier\n",
    "import numpy as np\n",
    "\n",
    "# Define the mapping from labels to numeric values\n",
    "label_mapping = {\n",
    "    'NORMAL_TCP': 1,\n",
    "    'DDOS_TCP': 2,\n",
    "    'DDOS_UDP': 3,\n",
    "    'NORMAL_UDP': 4,\n",
    "    'NORMAL_ICMP': 5,\n",
    "    'DDOS_ICMP': 6\n",
    "}\n",
    "\n",
    "# Apply the mapping to the 'label' column\n",
    "dataset['label'] = dataset['label'].map(label_mapping)\n",
    "\n",
    "# Memisahkan fitur dataset (X) dan label dataset (y)\n",
    "X = dataset.drop('label', axis=1)\n",
    "y = dataset['label']\n",
    "\n",
    "# Menset model ke model yang dipilih dan mem‐fit modelnya\n",
    "# Create and train the Decision Tree model\n",
    "dt_model = DecisionTreeClassifier(random_state=42)\n",
    "\n",
    "# Menghitung dan mencetak akurasi model\n",
    "kFoldValidation = KFold(n_splits=10, shuffle=True, random_state=42)\n",
    "modelScore = cross_val_score(dt_model, X, y, cv=kFoldValidation)\n",
    "print(\"K‐Fold Cross Validation score: \", modelScore) # hasilnya score sebanyak K\n",
    "print(\"Rata-rata KFCV score: \", np.mean(modelScore)) # menghitung rata-rata score dari score sejumlah K\n",
    "\n",
    "\"\"\"\n",
    "Kadang kala diperlukan ukuran error dari model sebagai kebalikan dari ukuran akurasi.\n",
    "Berikut ini adalah menghitung error menggunakan MAE dan RMSE\n",
    "\"\"\"\n",
    "# Menghitung dan mencetak Mean Absolute Error (MAE) model\n",
    "maeScore = cross_val_score(dt_model, X, y, cv=kFoldValidation, scoring='neg_mean_absolute_error')\n",
    "print(\"K‐Fold Cross Validation MAE: \", maeScore) # hasilnya mae sebanyak K\n",
    "print(\"Rata-rata KFCV Mean Absolute Error: \", np.mean(maeScore)) # menghitung rata-rata mae dari mae sejumlah K\n",
    "\n",
    "# Menghitung dan mencetak Root Mean Square Error (RMSE) model\n",
    "rmseScore = cross_val_score(dt_model, X, y, cv=kFoldValidation, scoring='neg_mean_squared_error')\n",
    "print(\"K‐Fold Cross Validation RMSE: \", rmseScore) # hasilnya rmse sebanyak K\n",
    "print(\"Rata-rata KFCV Root Mean Square Error: \", np.mean(np.sqrt(-rmseScore))) # menghitung rata-rata rmse dari mae sejumlah K\n"
   ]
  }
 ],
 "metadata": {
  "kernelspec": {
   "display_name": "myenv1",
   "language": "python",
   "name": "python3"
  },
  "language_info": {
   "codemirror_mode": {
    "name": "ipython",
    "version": 3
   },
   "file_extension": ".py",
   "mimetype": "text/x-python",
   "name": "python",
   "nbconvert_exporter": "python",
   "pygments_lexer": "ipython3",
   "version": "3.10.13"
  }
 },
 "nbformat": 4,
 "nbformat_minor": 2
}
